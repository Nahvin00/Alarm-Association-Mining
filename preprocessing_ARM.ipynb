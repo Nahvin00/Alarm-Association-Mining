{
 "cells": [
  {
   "cell_type": "code",
   "execution_count": 65,
   "metadata": {},
   "outputs": [],
   "source": [
    "import pandas as pd\n",
    "import time\n",
    "import datetime\n",
    "from datetime import timedelta\n",
    "from IPython.display import clear_output\n",
    "from googletrans import Translator"
   ]
  },
  {
   "cell_type": "code",
   "execution_count": 66,
   "metadata": {
    "colab": {
     "base_uri": "https://localhost:8080/"
    },
    "id": "jkwUwCDF-txv",
    "outputId": "87f8b570-d7e9-4007-c0b6-13f2838b75fc"
   },
   "outputs": [],
   "source": [
    "def extractData(file):\n",
    "    lst = []\n",
    "    try:\n",
    "        with open(file, \"r\", encoding=\"utf-16\") as filestream:\n",
    "            for line in filestream:\n",
    "                crline = line.strip(\"\\n\").split(\",\")\n",
    "                lst.append(crline)\n",
    "    except:\n",
    "        with open(file, \"r\", encoding=\"utf-8\") as filestream:\n",
    "            for line in filestream:\n",
    "                crline = line.strip(\"\\n\").split(\",\")\n",
    "                lst.append(crline)\n",
    "\n",
    "    df = pd.DataFrame(lst)\n",
    "    df = df.rename(columns=df.iloc[0]).loc[1:]\n",
    "\n",
    "    for i, x in enumerate(df['EventStamp']):\n",
    "        if x == 'EventStamp':\n",
    "            df = df.drop(labels=i+1)\n",
    "            i = i - 1\n",
    "\n",
    "    df = df.reset_index(drop=True)\n",
    "    translator = Translator()\n",
    "    alm_data = df[[\"TagName\", \"Description\", \"Area\", \"Type\", \"Priority\", \"Category\", \"Provider\"]]\n",
    "    alm_data = alm_data.groupby('TagName').min()\n",
    "    ItemError_tag = alm_data[alm_data.index.str.endswith('ItemErrorCntAlarm')].index\n",
    "    ItemError_tag = ItemError_tag.union(alm_data[alm_data.index.str.startswith('test')].index)\n",
    "    alm_data = alm_data.drop(ItemError_tag, inplace=False)\n",
    "    alm_data[\"Description\"] = [translator.translate(i).text.replace(\"电表\", \"Meter\") for i in alm_data[\"Description\"]]\n",
    "    return df, alm_data"
   ]
  },
  {
   "cell_type": "code",
   "execution_count": 2,
   "metadata": {},
   "outputs": [],
   "source": [
    "def formatData(df):\n",
    "    df = pd.DataFrame().assign(EventStamp = df['EventStamp'], TagName = df['TagName'])\n",
    "    df['EventStamp'] = df['EventStamp'].apply(pd.to_datetime)\n",
    "    clean_data = df.copy()\n",
    "    df['TagName'], unique_tag = pd.factorize(df['TagName'])\n",
    "    uni_tag = pd.DataFrame(unique_tag.to_list())\n",
    "    return df, clean_data, uni_tag"
   ]
  },
  {
   "cell_type": "code",
   "execution_count": 67,
   "metadata": {},
   "outputs": [],
   "source": [
    "def calcProcessTime(starttime, cur_iter, max_iter):\n",
    "    telapsed = time.time() - starttime\n",
    "    testimated = (telapsed/cur_iter)*(max_iter)\n",
    "    finishtime = starttime + testimated\n",
    "    finishtime = datetime.datetime.fromtimestamp(finishtime).strftime(\"%H:%M:%S\")\n",
    "    lefttime = testimated-telapsed\n",
    "    prstime = int(telapsed), int(lefttime), finishtime\n",
    "    print(cur_iter, \"out of\", max_iter, \"|\", round((cur_iter/max_iter)*100,2) , \"% completed!\")\n",
    "    print(\"time elapsed: %s(s), time left: %s(s), estimated finish time: %s\"%prstime)\n",
    "    clear_output(wait=True)"
   ]
  },
  {
   "cell_type": "code",
   "execution_count": 68,
   "metadata": {},
   "outputs": [],
   "source": [
    "def poolData(df):\n",
    "    lst = []\n",
    "    start = time.time()\n",
    "    interval = 5\n",
    "    for i in df.index:\n",
    "        tm_intv = 10\n",
    "\n",
    "        if (i - tm_intv) <= 0:\n",
    "            start_intv = 0\n",
    "        else:\n",
    "            start_intv = (i - tm_intv)\n",
    "        while (df['EventStamp'][i] + timedelta(minutes=interval)) < df['EventStamp'][start_intv]:\n",
    "            start_intv = start_intv - tm_intv\n",
    "            if start_intv < 0:\n",
    "                start_intv = 0\n",
    "                break\n",
    "\n",
    "        if (i + tm_intv) >= len(df):\n",
    "            end_intv = len(df) - 1\n",
    "        else:\n",
    "            end_intv = (i + tm_intv)\n",
    "        while (df['EventStamp'][i] + timedelta(minutes=interval)) > df['EventStamp'][end_intv]:\n",
    "            end_intv = end_intv + tm_intv\n",
    "            if end_intv > len(df) - 1:\n",
    "                end_intv = len(df) - 1\n",
    "                break\n",
    "\n",
    "        temp_lst = []\n",
    "        for j in range(start_intv, end_intv + 1):\n",
    "            if (df['EventStamp'][j] <= (df['EventStamp'][i] + timedelta(minutes=interval))) and (df['EventStamp'][j] >= (df['EventStamp'][i] - timedelta(minutes=interval))):\n",
    "                temp_lst.append(df['TagName'][j])\n",
    "        lst.append([df['EventStamp'][i], temp_lst])\n",
    "        calcProcessTime(start, i+1, len(df.index))\n",
    "    pool_data = pd.DataFrame(lst)\n",
    "    pool_data = pool_data.drop(columns=[0])\n",
    "    return pool_data"
   ]
  }
 ],
 "metadata": {
  "accelerator": "GPU",
  "colab": {
   "provenance": []
  },
  "gpuClass": "standard",
  "kernelspec": {
   "display_name": "Python 3 (ipykernel)",
   "language": "python",
   "name": "python3"
  },
  "language_info": {
   "codemirror_mode": {
    "name": "ipython",
    "version": 3
   },
   "file_extension": ".py",
   "mimetype": "text/x-python",
   "name": "python",
   "nbconvert_exporter": "python",
   "pygments_lexer": "ipython3",
   "version": "3.11.1"
  }
 },
 "nbformat": 4,
 "nbformat_minor": 4
}
