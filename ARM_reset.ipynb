{
 "cells": [
  {
   "cell_type": "code",
   "execution_count": 2,
   "id": "5118a27e-2d0f-4650-b0fc-918b9528ea5f",
   "metadata": {},
   "outputs": [
    {
     "name": "stderr",
     "output_type": "stream",
     "text": [
      "C:\\Users\\MuthusamyNah\\AppData\\Local\\Programs\\Python\\Python311\\Lib\\site-packages\\httpx\\_models.py:1: DeprecationWarning: 'cgi' is deprecated and slated for removal in Python 3.13\n",
      "  import cgi\n"
     ]
    }
   ],
   "source": [
    "import pandas as pd\n",
    "from mlxtend.preprocessing import TransactionEncoder\n",
    "from mlxtend.frequent_patterns import apriori, fpgrowth, association_rules\n",
    "import numpy as np\n",
    "import oracledb\n",
    "from datetime import datetime\n",
    "import time\n",
    "# from preprocessing_ARM import extractData, formatData, poolData, calcProcessTime\n",
    "from ipynb.fs.full.preprocessing_ARM import extractData, formatData, poolData, calcProcessTime\n",
    "import cgi\n",
    "import os"
   ]
  },
  {
   "cell_type": "code",
   "execution_count": null,
   "id": "1cc3338e-30e0-4e89-82de-f38750deb9a2",
   "metadata": {},
   "outputs": [],
   "source": [
    "df, alm_data = extractData(\"raw_data.txt\")\n",
    "df, clean_data, uni_tag = formatData(df)\n",
    "df = poolData(df)\n",
    "lst = df[1].to_list()\n",
    "lst = [str(i).strip('][').split(', ') for i in lst]\n",
    "te = TransactionEncoder()\n",
    "te_ary = te.fit(lst).transform(lst)\n",
    "new_df = pd.DataFrame(te_ary)\n",
    "new_df.columns = uni_tag[0].tolist()\n",
    "re = fpgrowth(new_df, min_support=0.01, use_colnames=True)"
   ]
  },
  {
   "cell_type": "code",
   "execution_count": 4,
   "id": "40ca7353-1407-4bda-836d-e71c717cf0ad",
   "metadata": {},
   "outputs": [],
   "source": [
    "t2 = int(new_df.shape[0])\n",
    "res = association_rules(re, metric=\"confidence\", min_threshold=0.95)\n",
    "res[\"antecedents\"] = res[\"antecedents\"].apply(lambda x: ', '.join(list(x))).astype(\"unicode\")\n",
    "res[\"consequents\"] = res[\"consequents\"].apply(lambda x: ', '.join(list(x))).astype(\"unicode\")\n",
    "res = res.replace(np.inf, 10000)"
   ]
  },
  {
   "cell_type": "code",
   "execution_count": 5,
   "id": "077de80f-a972-40a8-ba66-354fcb808ad6",
   "metadata": {},
   "outputs": [],
   "source": [
    "alm_data = alm_data.reset_index()\n",
    "new_alm_df = alm_data.values.tolist()\n",
    "clean_data = clean_data.values.tolist()\n",
    "time_ = datetime.now().strftime(\"%d/%m/%Y %H:%M:%S\")\n",
    "freq_data = freq_data.values.tolist()\n",
    "res = res.values.tolist()\n",
    "t_item = len(new_alm_df) + len(clean_data) + 2 + len(freq_data) + len(res)\n",
    "c_item = 1"
   ]
  },
  {
   "cell_type": "code",
   "execution_count": null,
   "id": "c66f1038-5908-4b2e-9108-0f1a15abbbad",
   "metadata": {},
   "outputs": [],
   "source": [
    "start = time.time()\n",
    "db = \"\"\n",
    "with oracledb.connect(db) as connection:\n",
    "    with connection.cursor() as cursor:\n",
    "        \n",
    "        calcProcessTime(start, c_item, t_item)\n",
    "        cursor.execute(\"DELETE FROM AAA_ARM_ALARM_DATA\")\n",
    "        cursor.execute('commit')\n",
    "        for x, i in enumerate(new_alm_df):\n",
    "            cursor.execute(\"INSERT INTO AAA_ARM_ALARM_DATA VALUES(:1, :2, :3, :4, :5, :6, :7)\", [i[0], i[1], i[2], i[3], i[4], i[5], i[6]])\n",
    "            if x % 100 == 0:\n",
    "                    cursor.execute('commit')\n",
    "            c_ = c_item + x + 1\n",
    "            calcProcessTime(start, c_, t_item)\n",
    "        cursor.execute('commit')\n",
    "        c_item = c_item + len(new_alm_df)\n",
    "        \n",
    "        cursor.execute(\"DELETE FROM AAA_ARM_ALARM_HIST\")\n",
    "        cursor.execute('commit')\n",
    "        for x, i in enumerate(clean_data):\n",
    "            cursor.execute(\"INSERT INTO AAA_ARM_ALARM_HIST VALUES(:1, :2)\", [i[0], i[1]])\n",
    "            if x % 100 == 0:\n",
    "                    cursor.execute('commit')\n",
    "            c_ = c_item + x + 1\n",
    "            calcProcessTime(start, c_, t_item)\n",
    "        cursor.execute('commit')  \n",
    "        c_item = c_item + len(clean_data)\n",
    "        \n",
    "        cursor.execute(\"DELETE FROM AAA_ARM_VAR\")\n",
    "        cursor.execute('commit')\n",
    "        cursor.execute(\"INSERT INTO AAA_ARM_VAR VALUES(:1, :2)\", [str(t2), time_])\n",
    "        cursor.execute('commit') \n",
    "        c_item = c_item + 2\n",
    "        calcProcessTime(start, c_item, t_item)\n",
    "        \n",
    "        cursor.execute(\"DELETE FROM AAA_ARM_FREQ_SET\")\n",
    "        cursor.execute('commit')\n",
    "        for x, i in enumerate(freq_data):\n",
    "            cursor.execute(\"INSERT INTO AAA_ARM_FREQ_SET VALUES(:1, :2)\", [i[0], str(i[1])])\n",
    "            if x % 100 == 0:\n",
    "                cursor.execute('commit')\n",
    "            c_ = c_item + x + 1\n",
    "            calcProcessTime(start, c_, t_item)\n",
    "        cursor.execute('commit')   \n",
    "        c_item = c_item + len(freq_data)\n",
    "        \n",
    "        cursor.execute(\"DELETE FROM AAA_ARM_RULE\")\n",
    "        cursor.execute('commit')\n",
    "        for x, i in enumerate(res):\n",
    "            cursor.execute(\"INSERT INTO AAA_ARM_RULE VALUES(:1, :2, :3, :4, :5, :6, :7, :8, :9)\", [i[0], i[1], i[2], i[3], i[4], i[5], i[6], i[7], i[8]])\n",
    "            if x % 100 == 0:\n",
    "                cursor.execute('commit')\n",
    "            c_ = c_item + x + 1\n",
    "            calcProcessTime(start, c_, t_item)\n",
    "        cursor.execute('commit')\n",
    "        c_item = c_item + len(res)\n",
    "        calcProcessTime(start, c_item, t_item)"
   ]
  },
  {
   "cell_type": "code",
   "execution_count": null,
   "id": "30f7119d-b684-4958-b31d-8a8ddbda5c8a",
   "metadata": {},
   "outputs": [],
   "source": [
    "# os.remove(\"new_data.txt\")"
   ]
  }
 ],
 "metadata": {
  "kernelspec": {
   "display_name": "Python 3 (ipykernel)",
   "language": "python",
   "name": "python3"
  },
  "language_info": {
   "codemirror_mode": {
    "name": "ipython",
    "version": 3
   },
   "file_extension": ".py",
   "mimetype": "text/x-python",
   "name": "python",
   "nbconvert_exporter": "python",
   "pygments_lexer": "ipython3",
   "version": "3.11.1"
  }
 },
 "nbformat": 4,
 "nbformat_minor": 5
}
