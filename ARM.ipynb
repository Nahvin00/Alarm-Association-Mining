{
 "cells": [
  {
   "cell_type": "code",
   "execution_count": null,
   "id": "ad88c94a-1bf1-4194-ad9e-60f7e9f79ef1",
   "metadata": {},
   "outputs": [],
   "source": [
    "# !pip install pandas\n",
    "# !pip install mlxtend\n",
    "# !pip install numpy\n",
    "# !pip install ipynb\n",
    "# !pip install oracledb\n",
    "# !pip install googletrans==3.1.0a0"
   ]
  },
  {
   "cell_type": "code",
   "execution_count": null,
   "id": "5118a27e-2d0f-4650-b0fc-918b9528ea5f",
   "metadata": {},
   "outputs": [],
   "source": [
    "import pandas as pd\n",
    "from mlxtend.preprocessing import TransactionEncoder\n",
    "from mlxtend.frequent_patterns import apriori, fpgrowth, association_rules\n",
    "import numpy as np\n",
    "import oracledb\n",
    "from datetime import datetime\n",
    "import time\n",
    "# from preprocessing_ARM import extractData, formatData, poolData, calcProcessTime\n",
    "from ipynb.fs.full.preprocessing_ARM import extractData, formatData, poolData, calcProcessTime\n",
    "import cgi\n",
    "import os"
   ]
  },
  {
   "cell_type": "code",
   "execution_count": 2,
   "id": "c85404e0-37d5-441b-b16e-27d200d0ba01",
   "metadata": {},
   "outputs": [],
   "source": [
    "db = \"\"\n",
    "with oracledb.connect(db) as connection:\n",
    "    with connection.cursor() as cursor:\n",
    "        cursor.execute(\"SELECT NO_TRANS FROM AAA_ARM_VAR\")\n",
    "        max_column = cursor.fetchall()\n",
    "        cursor.execute(\"SELECT * FROM AAA_ARM_FREQ_SET\")\n",
    "        freq_data = cursor.fetchall()\n",
    "        cursor.execute(\"SELECT TAGNAME FROM AAA_ARM_ALARM_DATA\")\n",
    "        alm_data_ori = cursor.fetchall()\n",
    "max_column = int(list(max_column[0])[0])\n",
    "freq_data = pd.DataFrame(list(freq_data))\n",
    "freq_data.columns = [\"support\", \"itemsets\"]\n",
    "alm_data_ori = list(alm_data_ori)\n",
    "alm_lst = []\n",
    "for i in alm_data_ori:\n",
    "    alm_lst.append(str(i).strip(\"(,)\").replace(\"'\",\"\"))"
   ]
  },
  {
   "cell_type": "code",
   "execution_count": 3,
   "id": "1cc3338e-30e0-4e89-82de-f38750deb9a2",
   "metadata": {},
   "outputs": [
    {
     "name": "stdout",
     "output_type": "stream",
     "text": [
      "107 out of 107 | 100.0 % completed!\n",
      "time elapsed: 0(s), time left: 0(s), estimated finish time: 10:37:58\n"
     ]
    }
   ],
   "source": [
    "df, alm_data = extractData(\"new_data.txt\")\n",
    "df, clean_data, uni_tag = formatData(df)\n",
    "df = poolData(df)\n",
    "lst = df[1].to_list()\n",
    "lst = [str(i).strip('][').split(', ') for i in lst]\n",
    "te = TransactionEncoder()\n",
    "te_ary = te.fit(lst).transform(lst)\n",
    "new_df = pd.DataFrame(te_ary)\n",
    "new_df.columns = uni_tag[0].tolist()\n",
    "re = fpgrowth(new_df, min_support=0.01, use_colnames=True)"
   ]
  },
  {
   "cell_type": "code",
   "execution_count": 4,
   "id": "40ca7353-1407-4bda-836d-e71c717cf0ad",
   "metadata": {},
   "outputs": [],
   "source": [
    "thres = 0.01\n",
    "t1 = max_column\n",
    "t2 = int(new_df.shape[0])\n",
    "for i in freq_data.index:\n",
    "    f1 = float(freq_data[\"support\"][i])\n",
    "    check = 0\n",
    "    for j in re.index:\n",
    "        if freq_data[\"itemsets\"][i] == str(re[\"itemsets\"][j]):\n",
    "            check = 1\n",
    "            f2 = float(re[\"support\"][j])\n",
    "            freq_data.loc[i, \"support\"] = ((f1*t1)+(f2*t2))/(t1+t2)\n",
    "    if check == 0:\n",
    "        freq_data.loc[i, \"support\"] = (f1*t1)/(t1+t2)\n",
    "if (t2/t1) >= thres:       \n",
    "    for i in re.index:\n",
    "        f2 = float(re[\"support\"][i])\n",
    "        sup = (f2*t2)/(t1+t2)\n",
    "        if sup >= thres:\n",
    "            freq_data.loc[len(freq_data.index)] = [sup, re[\"itemsets\"][i]]\n",
    "t1 = t1 + t2\n",
    "freq_data[\"itemsets\"] = [frozenset(str(i).strip(\"frozenset\").strip(\"(){}\").replace(\"'\", \"\").replace(\" \", \"\").split(\",\")) for i in freq_data[\"itemsets\"]]\n",
    "res = association_rules(freq_data, metric=\"confidence\", min_threshold=0.95)\n",
    "res[\"antecedents\"] = res[\"antecedents\"].apply(lambda x: ', '.join(list(x))).astype(\"unicode\")\n",
    "res[\"consequents\"] = res[\"consequents\"].apply(lambda x: ', '.join(list(x))).astype(\"unicode\")\n",
    "res = res.replace(np.inf, 10000)"
   ]
  },
  {
   "cell_type": "code",
   "execution_count": 5,
   "id": "077de80f-a972-40a8-ba66-354fcb808ad6",
   "metadata": {},
   "outputs": [],
   "source": [
    "alm_data = alm_data.reset_index()\n",
    "new_alm_lst = []\n",
    "for i in alm_data[\"TagName\"]:\n",
    "    vald = 0\n",
    "    for j in alm_lst:\n",
    "        if str(i) == str(j):\n",
    "            vald = 1\n",
    "    if vald == 0:\n",
    "        new_alm_lst.append(str(i))\n",
    "new_alm_df = alm_data[alm_data[\"TagName\"].isin(new_alm_lst)].values.tolist()\n",
    "clean_data = clean_data.values.tolist()\n",
    "time_ = datetime.now().strftime(\"%d/%m/%Y %H:%M:%S\")\n",
    "freq_data = re.values.tolist()\n",
    "res = res.values.tolist()\n",
    "t_item = len(new_alm_df) + len(clean_data) + 2 + len(freq_data) + len(res)\n",
    "c_item = 1"
   ]
  },
  {
   "cell_type": "code",
   "execution_count": null,
   "id": "c66f1038-5908-4b2e-9108-0f1a15abbbad",
   "metadata": {},
   "outputs": [],
   "source": [
    "start = time.time()\n",
    "with oracledb.connect(db) as connection:\n",
    "    with connection.cursor() as cursor:\n",
    "        \n",
    "        calcProcessTime(start, c_item, t_item)\n",
    "        for x, i in enumerate(new_alm_df):\n",
    "            cursor.execute(\"INSERT INTO AAA_ARM_ALARM_DATA VALUES(:1, :2, :3, :4, :5, :6, :7)\", [i[0], i[1], i[2], i[3], i[4], i[5], i[6]])\n",
    "            if x % 100 == 0:\n",
    "                    cursor.execute('commit')\n",
    "            c_ = c_item + x + 1\n",
    "            calcProcessTime(start, c_, t_item)\n",
    "        cursor.execute('commit')\n",
    "        c_item = c_item + len(new_alm_df)\n",
    "        \n",
    "        for x, i in enumerate(clean_data):\n",
    "            cursor.execute(\"INSERT INTO AAA_ARM_ALARM_HIST VALUES(:1, :2)\", [i[0], i[1]])\n",
    "            if x % 100 == 0:\n",
    "                    cursor.execute('commit')\n",
    "            c_ = c_item + x + 1\n",
    "            calcProcessTime(start, c_, t_item)\n",
    "        cursor.execute('commit')  \n",
    "        c_item = c_item + len(clean_data)\n",
    "        \n",
    "        cursor.execute(\"UPDATE AAA_ARM_VAR SET NO_TRANS = :1, LAST_MODF_DATE = :2\", [str(t1), time_])\n",
    "        cursor.execute('commit') \n",
    "        c_item = c_item + 2\n",
    "        calcProcessTime(start, c_item, t_item)\n",
    "        \n",
    "        cursor.execute(\"DELETE FROM AAA_ARM_FREQ_SET\")\n",
    "        cursor.execute('commit')\n",
    "        for x, i in enumerate(freq_data):\n",
    "            cursor.execute(\"INSERT INTO AAA_ARM_FREQ_SET VALUES(:1, :2)\", [i[0], str(i[1])])\n",
    "            if x % 100 == 0:\n",
    "                cursor.execute('commit')\n",
    "            c_ = c_item + x + 1\n",
    "            calcProcessTime(start, c_, t_item)\n",
    "        cursor.execute('commit')   \n",
    "        c_item = c_item + len(freq_data)\n",
    "        \n",
    "        cursor.execute(\"DELETE FROM AAA_ARM_RULE\")\n",
    "        cursor.execute('commit')\n",
    "        for x, i in enumerate(res):\n",
    "            cursor.execute(\"INSERT INTO AAA_ARM_RULE VALUES(:1, :2, :3, :4, :5, :6, :7, :8, :9)\", [i[0], i[1], i[2], i[3], i[4], i[5], i[6], i[7], i[8]])\n",
    "            if x % 100 == 0:\n",
    "                cursor.execute('commit')\n",
    "            c_ = c_item + x + 1\n",
    "            calcProcessTime(start, c_, t_item)\n",
    "        cursor.execute('commit')\n",
    "        c_item = c_item + len(res)\n",
    "        calcProcessTime(start, c_item, t_item)"
   ]
  },
  {
   "cell_type": "code",
   "execution_count": null,
   "id": "30f7119d-b684-4958-b31d-8a8ddbda5c8a",
   "metadata": {},
   "outputs": [],
   "source": [
    "# os.remove(\"new_data.txt\")"
   ]
  }
 ],
 "metadata": {
  "kernelspec": {
   "display_name": "Python 3 (ipykernel)",
   "language": "python",
   "name": "python3"
  },
  "language_info": {
   "codemirror_mode": {
    "name": "ipython",
    "version": 3
   },
   "file_extension": ".py",
   "mimetype": "text/x-python",
   "name": "python",
   "nbconvert_exporter": "python",
   "pygments_lexer": "ipython3",
   "version": "3.11.1"
  },
  "toc-autonumbering": true,
  "toc-showtags": true
 },
 "nbformat": 4,
 "nbformat_minor": 5
}
